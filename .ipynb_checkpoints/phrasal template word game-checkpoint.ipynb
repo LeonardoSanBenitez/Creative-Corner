{
 "cells": [
  {
   "cell_type": "code",
   "execution_count": 1,
   "metadata": {},
   "outputs": [
    {
     "data": {
      "text/plain": [
       "'ouch! he said stupidly as he jumped into his convertible cat and drove off with his brave wife.'"
      ]
     },
     "execution_count": 1,
     "metadata": {},
     "output_type": "execute_result"
    }
   ],
   "source": [
    "def template_1(exclamation, adverb, noun, adjective):\n",
    "    return \"%s! he said %s as he jumped into his convertible %s and drove off with his %s wife.\"%(exclamation, adverb, noun, adjective) \n",
    "\n",
    "template_1('ouch', 'stupidly', 'cat', 'brave')"
   ]
  }
 ],
 "metadata": {
  "kernelspec": {
   "display_name": "Python 3",
   "language": "python",
   "name": "python3"
  },
  "language_info": {
   "codemirror_mode": {
    "name": "ipython",
    "version": 3
   },
   "file_extension": ".py",
   "mimetype": "text/x-python",
   "name": "python",
   "nbconvert_exporter": "python",
   "pygments_lexer": "ipython3",
   "version": "3.8.3"
  }
 },
 "nbformat": 4,
 "nbformat_minor": 4
}
